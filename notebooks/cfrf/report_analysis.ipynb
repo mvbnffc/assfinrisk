{
 "cells": [
  {
   "cell_type": "code",
   "execution_count": 1,
   "id": "764ce7de-a827-4bbc-9ef2-77eebe39bf01",
   "metadata": {},
   "outputs": [
    {
     "name": "stdout",
     "output_type": "stream",
     "text": [
      "Auto-reload enabled - modules will update automatically\n"
     ]
    }
   ],
   "source": [
    "import pandas as pd\n",
    "import numpy as np\n",
    "import copy\n",
    "import matplotlib.pyplot as plt\n",
    "from matplotlib.ticker import FuncFormatter, MaxNLocator, PercentFormatter\n",
    "from tqdm import tqdm\n",
    "from scipy.stats import norm\n",
    "from collections import OrderedDict\n",
    "import sys, os\n",
    "from prisk.asset import PowerPlant, WareHouse, Manufacturing\n",
    "from prisk.flood import FloodExposure, FloodEntitySim, FloodExceedanceCurve\n",
    "from prisk.firm import Holding\n",
    "from prisk.portfolio import Portfolio\n",
    "from prisk.kernel import Kernel\n",
    "from prisk.insurance import Insurance\n",
    "# === AUTO-RELOAD SETUP ===\n",
    "# This will automatically reload modules when they change\n",
    "%load_ext autoreload\n",
    "%autoreload 2\n",
    "\n",
    "# This tells Jupyter to automatically reload any imported modules\n",
    "# when their source code changes\n",
    "print(\"Auto-reload enabled - modules will update automatically\")"
   ]
  },
  {
   "cell_type": "markdown",
   "id": "31db8520-4e15-4fa1-be86-04d26d7fa3b2",
   "metadata": {},
   "source": [
    "### Step 1: Load all data and set global analysis parameters"
   ]
  },
  {
   "cell_type": "code",
   "execution_count": 2,
   "id": "43ecc629-bbb5-48c6-aa5a-73cf3098a41e",
   "metadata": {},
   "outputs": [],
   "source": [
    "# Load CSVs\n",
    "thailand_assets = pd.read_csv(r\"C:\\Users\\Mark.DESKTOP-UFHIN6T\\OneDrive - Nexus365\\CFRF\\2025\\Deals_WG\\PRISK\\synthetic\\realistic_synthetic_assets_thailand_flooded_point.csv\")\n",
    "financial_data = pd.read_csv(r\"C:\\Users\\Mark.DESKTOP-UFHIN6T\\OneDrive - Nexus365\\CFRF\\2025\\Deals_WG\\PRISK\\synthetic\\synthetic_owners_thailand.csv\")\n",
    "# Make RP columns int not str1\n",
    "thailand_assets.columns = thailand_assets.columns.map(lambda c: int(c) if str(c).isdigit() else c)"
   ]
  },
  {
   "cell_type": "code",
   "execution_count": 3,
   "id": "5786a429-08fd-490a-94a8-e5211332aa22",
   "metadata": {},
   "outputs": [],
   "source": [
    "leverage_ratios = {firm: leverage for firm, leverage in zip(financial_data[\"owner_name\"], financial_data[\"leverage_ratio\"])}\n",
    "return_period_columns = [2, 5, 10, 25, 50, 100, 200, 500, 1000]\n",
    "power_damage_curves = pd.read_excel(r\"C:\\Users\\Mark.DESKTOP-UFHIN6T\\OneDrive - Nexus365\\CFRF\\2025\\Deals_WG\\PRISK\\power_damage_curves.xlsx\")\n",
    "manufacturing_damage_curves = pd.read_excel(r\"C:\\Users\\Mark.DESKTOP-UFHIN6T\\OneDrive - Nexus365\\CFRF\\2025\\Deals_WG\\PRISK\\manufacturing_damage_curves.xlsx\")\n",
    "warehouse_damage_curves = pd.read_excel(r\"C:\\Users\\Mark.DESKTOP-UFHIN6T\\OneDrive - Nexus365\\CFRF\\2025\\Deals_WG\\PRISK\\warehouse_damage_curves.xlsx\")"
   ]
  },
  {
   "cell_type": "code",
   "execution_count": 4,
   "id": "e74fd995-7815-454c-94be-1037cd21f8df",
   "metadata": {},
   "outputs": [],
   "source": [
    "# Global analysis parameters\n",
    "time_horizon = 25 # for each simulation what is the time horizon we will look\n",
    "discount_rate = 0.05 # 5% discount rate\n",
    "manufacturing_unit_price = 2500 # pounds p.a. production (per m^2)\n",
    "manufacturing_profit_margin = 0.07 # 7% profit margin for warehouse facilities\n",
    "warehouse_unit_price = 500 # pounds p.a. rental income (per m^2)\n",
    "warehouse_profit_margin = 0.1 # 10% profit margin for warehouse facilities\n",
    "power_unit_price = 60 # pounds per MWh\n",
    "power_profit_margin = 0.2 # 20% profit margin for electricity generation"
   ]
  },
  {
   "cell_type": "markdown",
   "id": "dea2718b-035b-4a88-860a-09b66aefb3ca",
   "metadata": {},
   "source": [
    "### Step 2: Create assets and extract ownership"
   ]
  },
  {
   "cell_type": "code",
   "execution_count": 5,
   "id": "2f9adcd0-b5a5-49b5-bbfd-642ba36ac2df",
   "metadata": {},
   "outputs": [],
   "source": [
    "# Function to convert damage curves to continuous damage\n",
    "def convert_to_continuous_damage(damage_curves):\n",
    "    continuous_curves = pd.DataFrame({\"index\": range(0, int(max((damage_curves[\"depth\"] + 0.01)*100)))})\n",
    "    continuous_curves[\"index\"] = continuous_curves[\"index\"]/100\n",
    "    continuous_curves.set_index(\"index\", inplace=True)\n",
    "    continuous_curves = continuous_curves.merge(damage_curves, how=\"left\", left_index=True, right_on=\"depth\")\n",
    "    continuous_curves.interpolate(method=\"linear\", inplace=True)\n",
    "    continuous_curves.set_index(\"depth\", inplace=True)\n",
    "    return continuous_curves"
   ]
  },
  {
   "cell_type": "code",
   "execution_count": 6,
   "id": "60fd38b6-5ead-4ef6-b300-09e8ccc19222",
   "metadata": {},
   "outputs": [],
   "source": [
    "# Create power assets\n",
    "# User parameters\n",
    "power_assets = thailand_assets[thailand_assets['asset_class']=='power'].copy() # filter by power assets\n",
    "# For row in our power asset dataframe we are going to create a PowerPlant asset class\n",
    "power_assets.loc[:, \"asset\"] = power_assets.apply(lambda x:\n",
    "                                                 PowerPlant(\n",
    "                                                     name=x[\"asset_name\"], # assign asset name from dataframe\n",
    "                                                     flood_damage_curve=convert_to_continuous_damage(power_damage_curves), # add specific power curves\n",
    "                                                     flood_exposure=[FloodExposure(return_period, x[return_period]) \n",
    "                                                                    for return_period in return_period_columns if x[return_period] > 0], # populate flood exposure class with return period and depth info\n",
    "                                                     flood_protection = x[\"flood_protection\"], # flood protection is taken from FLOPROS column \n",
    "                                                     production_path=np.repeat(x[\"size\"]*24*365, time_horizon), # calculate annual production of asset\n",
    "                                                     replacement_cost=x['asset_value_usd'], # value of asset taken from spreadsheet\n",
    "                                                     unit_price=power_unit_price,\n",
    "                                                     discount_rate=discount_rate,\n",
    "                                                     margin=power_profit_margin,\n",
    "                                                 ), axis=1)"
   ]
  },
  {
   "cell_type": "code",
   "execution_count": 7,
   "id": "a4465832-3724-4804-b89d-a7bb512c1579",
   "metadata": {},
   "outputs": [],
   "source": [
    "# Create warehouse assets\n",
    "warehouse_assets = thailand_assets[thailand_assets['asset_class']=='warehouse'].copy() # filter by warehouse assets\n",
    "# For row in our warhouse asset dataframe we are going to create a WareHouse asset class\n",
    "warehouse_assets.loc[:, \"asset\"] = warehouse_assets.apply(lambda x:\n",
    "                                                 WareHouse(\n",
    "                                                     name=x[\"asset_name\"], # assign asset name from dataframe\n",
    "                                                     flood_damage_curve=convert_to_continuous_damage(warehouse_damage_curves), # add specific warehouse curves\n",
    "                                                     flood_exposure=[FloodExposure(return_period, x[return_period]) \n",
    "                                                                    for return_period in return_period_columns if x[return_period] > 0], # populate flood exposure class with return period and depth info\n",
    "                                                     flood_protection = x[\"flood_protection\"], # flood protection is taken from FLOPROS column \n",
    "                                                     production_path=np.repeat(x[\"size\"], time_horizon), # calculate annual production of asset\n",
    "                                                     replacement_cost=x['asset_value_usd'], # value of asset taken from spreadsheet\n",
    "                                                     unit_price=warehouse_unit_price,\n",
    "                                                     discount_rate=discount_rate,\n",
    "                                                     margin=warehouse_profit_margin,\n",
    "                                                 ), axis=1)"
   ]
  },
  {
   "cell_type": "code",
   "execution_count": 8,
   "id": "52eaeba2-ccbe-4da4-9e93-b05be7da23ea",
   "metadata": {},
   "outputs": [],
   "source": [
    "# Create manufacturing assets\n",
    "manufacturing_assets = thailand_assets[thailand_assets['asset_class']=='manufacturing'].copy() # filter by manufacturing assets\n",
    "# For row in our manufacturing asset dataframe we are going to create a Manufacturing asset class\n",
    "manufacturing_assets.loc[:, \"asset\"] = manufacturing_assets.apply(lambda x:\n",
    "                                                 Manufacturing(\n",
    "                                                     name=x[\"asset_name\"], # assign asset name from dataframe\n",
    "                                                     flood_damage_curve=convert_to_continuous_damage(manufacturing_damage_curves), # add specific maufacturing curves\n",
    "                                                     flood_exposure=[FloodExposure(return_period, x[return_period]) \n",
    "                                                                    for return_period in return_period_columns if x[return_period] > 0], # populate flood exposure class with return period and depth info\n",
    "                                                     flood_protection = x[\"flood_protection\"], # flood protection is taken from FLOPROS column \n",
    "                                                     production_path=np.repeat(x[\"size\"], time_horizon), # calculate annual production of asset\n",
    "                                                     replacement_cost=x['asset_value_usd'], # value of asset taken from spreadsheet\n",
    "                                                     unit_price=manufacturing_unit_price,\n",
    "                                                     discount_rate=discount_rate,\n",
    "                                                     margin=manufacturing_profit_margin,\n",
    "                                                 ), axis=1)"
   ]
  },
  {
   "cell_type": "code",
   "execution_count": 9,
   "id": "0623b028-1910-421a-a087-a194e0e807e3",
   "metadata": {},
   "outputs": [],
   "source": [
    "# Create a combined asset dataframe\n",
    "combined_assets = pd.concat(\n",
    "    [power_assets, warehouse_assets, manufacturing_assets],\n",
    "    axis=0,\n",
    "    ignore_index=True\n",
    ")"
   ]
  },
  {
   "cell_type": "code",
   "execution_count": 10,
   "id": "8326c8be-916a-4a10-8aab-2c27ccf9eff1",
   "metadata": {},
   "outputs": [],
   "source": [
    "# Extract the firms that own these assets\n",
    "list_of_owners = []\n",
    "for owners in combined_assets[\"owner_name\"].unique(): # pull uniqute owner names\n",
    "    if pd.isna(owners): \n",
    "        continue\n",
    "    list_of_owners.append(owners) # populate list\n",
    "list_of_owners = list(OrderedDict.fromkeys(list_of_owners)) # remove any duplicates\n",
    "owner_map = {owner: Holding(owner, leverage_ratio=leverage_ratios.get(owner)) for owner in list_of_owners} # Create a dic of owners and creates holding class for each\n",
    "# Create holding firms (collection of assets with a certain percentage of ownership)\n",
    "holdings = []\n",
    "for i, owner in enumerate(combined_assets[\"owner_name\"]):\n",
    "    if pd.isna(owner):\n",
    "        continue\n",
    "    share = 1 # here assuming each asset only has one owner (can have multi-owner structure too)\n",
    "    holding = owner_map[owner]\n",
    "    holding.add_asset(combined_assets.loc[i, \"asset\"], share)\n",
    "    holdings.append(holding)\n",
    "firms = list(OrderedDict.fromkeys(holdings)) # remove any duplicates"
   ]
  },
  {
   "cell_type": "markdown",
   "id": "52c3f5c3-2f7c-4dfa-8337-b952f9955c9d",
   "metadata": {},
   "source": [
    "### Step 3: Run simulation"
   ]
  },
  {
   "cell_type": "code",
   "execution_count": 11,
   "id": "eba31696-8308-4f61-9164-38a52142cb19",
   "metadata": {},
   "outputs": [],
   "source": [
    "# Functions\n",
    "def merton_probability_of_default(V, sigma_V, D, r=0, T=1, eps=1e-12):\n",
    "    \"\"\"\n",
    "    Calculate the probability of default using the Merton model.\n",
    "\n",
    "    Parameters:\n",
    "    V (float): Current value of the company's assets.\n",
    "    sigma_V (float): Volatility of the company's assets.\n",
    "    D (float): Face value of the company's debt.\n",
    "    r (float): Risk-free interest rate.\n",
    "    T (float): Time to maturity of the debt.\n",
    "\n",
    "    Returns:\n",
    "    float: Probability of default.\n",
    "    \"\"\"\n",
    "    # Avoid runtime error\n",
    "    V = max(V, eps)\n",
    "    D = max(D, eps)\n",
    "    sigma_V = max(sigma_V, eps)\n",
    "    T = max(T, eps)\n",
    "    \n",
    "    # Calculate d2\n",
    "    d2 = (np.log(V / D) + (r - 0.5 * sigma_V**2) * T) / (sigma_V * np.sqrt(T))\n",
    "    # Calculate the probability of default\n",
    "    PD = norm.cdf(-d2)\n",
    "    return PD\n",
    "\n",
    "def apply_firm_adaptation(portfolio, firm_name, protection_level):\n",
    "    \"\"\"\n",
    "    Apply flood protection to all assets owned by a specific firm\n",
    "    \n",
    "    Parameters\n",
    "    ----------\n",
    "    portfolio : Portfolio\n",
    "        Your portfolio object\n",
    "    firm_name : str\n",
    "        Name of the firm (as it appears in the firm column)\n",
    "    protection_level : float\n",
    "        Return period for flood protection (e.g., 100 for 100-year flood)\n",
    "    \"\"\"\n",
    "    assets_df = portfolio.assets\n",
    "    \n",
    "    # Find all assets owned by the firm\n",
    "    firm_assets = assets_df[assets_df['firm'].astype(str) == firm_name]\n",
    "    \n",
    "    updated_count = 0\n",
    "    for _, row in firm_assets.iterrows():\n",
    "        asset = row['asset']\n",
    "        asset.flood_protection = protection_level\n",
    "        asset.update_expected_damage()\n",
    "        updated_count += 1\n",
    "    \n",
    "    print(f\"Applied {protection_level}-year flood protection to {updated_count} assets owned by {firm_name}\")\n",
    "    return updated_count\n",
    "\n",
    "def apply_asset_adaptation(portfolio, asset_names, protection_level):\n",
    "    \"\"\"\n",
    "    Apply flood protection to specific assets by name\n",
    "    \n",
    "    Parameters\n",
    "    ----------\n",
    "    portfolio : Portfolio\n",
    "        Your portfolio object\n",
    "    asset_names : str or list\n",
    "        Asset name(s) to protect\n",
    "    protection_level : float\n",
    "        Return period for flood protection (e.g., 100 for 100-year flood)\n",
    "    \"\"\"\n",
    "    if isinstance(asset_names, str):\n",
    "        asset_names = [asset_names]\n",
    "    \n",
    "    assets_df = portfolio.assets\n",
    "    updated_count = 0\n",
    "    \n",
    "    for asset_name in asset_names:\n",
    "        # Find assets matching the name\n",
    "        matching_assets = assets_df[assets_df['asset'].astype(str) == asset_name]\n",
    "        \n",
    "        for _, row in matching_assets.iterrows():\n",
    "            asset = row['asset']\n",
    "            asset.flood_protection = protection_level\n",
    "            asset.update_expected_damage()\n",
    "            updated_count += 1\n",
    "    \n",
    "    print(f\"Applied {protection_level}-year flood protection to {updated_count} assets: {asset_names}\")\n",
    "    return updated_count\n",
    "\n",
    "def apply_portfolio_adaptation(portfolio, protection_level):\n",
    "    \"\"\"\n",
    "    Apply flood protection to all assets in the portfolio\n",
    "    \n",
    "    Parameters\n",
    "    ----------\n",
    "    portfolio : Portfolio\n",
    "        Your portfolio object\n",
    "    protection_level : float\n",
    "        Return period for flood protection (e.g., 100 for 100-year flood)\n",
    "    \"\"\"\n",
    "    assets_df = portfolio.assets\n",
    "    updated_count = 0\n",
    "    \n",
    "    for _, row in assets_df.iterrows():\n",
    "        asset = row['asset']\n",
    "        asset.flood_protection = protection_level\n",
    "        asset.update_expected_damage()\n",
    "        updated_count += 1\n",
    "    \n",
    "    print(f\"Applied {protection_level}-year flood protection to all {updated_count} assets in portfolio\")\n",
    "    return updated_count\n",
    "    \n",
    "def plot_portfolio_values(pv_list, label):\n",
    "    fig, ax = plt.subplots(figsize=(6, 3))\n",
    "    # (PRISK)\n",
    "    ax.hist(pv_list, bins=20, density=False, alpha=0.5, color='lightblue', edgecolor='black', label=label)\n",
    "    ax.set_title(\"Distribution of Portfolio Values\")\n",
    "    ax.set_xlabel(\"Portfolio Value\")\n",
    "    ax.legend()\n",
    "    # ax.set_xlim(0.996, 1)\n",
    "    ax.set_ylabel(\"Count\")\n",
    "\n",
    "def collect_asset_data(assets):\n",
    "    \"\"\"Collect current state data from all assets\"\"\"\n",
    "    asset_data = []\n",
    "    for asset in assets:\n",
    "        data = {\n",
    "            'name': asset.name,\n",
    "            'climate_cost_path': asset.climate_cost_path,\n",
    "            'total_replacement_costs': asset.total_replacement_costs,\n",
    "            'total_business_disruption': asset.total_business_disruption,\n",
    "            'fair_premiums': asset.total_fair_insurance_premiums,\n",
    "            'npv_loss': asset.base_value - asset.npv,\n",
    "            'damage_ratio': sum(asset.climate_cost_path) / asset.base_value if asset.base_value > 0 else 0\n",
    "        }\n",
    "        asset_data.append(data)\n",
    "    return asset_data"
   ]
  },
  {
   "cell_type": "code",
   "execution_count": 12,
   "id": "b007be5a-74a2-4ff5-a53f-a436e76472b9",
   "metadata": {},
   "outputs": [],
   "source": [
    "# Set simulation parameters\n",
    "insured = False\n",
    "ins_cap = 2e9\n",
    "n_sims = 1000\n",
    "sigma = 0.2 "
   ]
  },
  {
   "cell_type": "code",
   "execution_count": 13,
   "id": "d831138e-d23d-4e06-a065-7271c2aca63b",
   "metadata": {},
   "outputs": [],
   "source": [
    "# Create a \"portfolio\" for simulation\n",
    "portfolio = Portfolio(\"Simulation Portfolio\")\n",
    "nav=1\n",
    "for firm in firms:\n",
    "    portfolio.add_position(firm, nav/(len(firms)*firm.npv))"
   ]
  },
  {
   "cell_type": "markdown",
   "id": "aea48bf0-0380-4eec-bf8c-42125fa34d6f",
   "metadata": {},
   "source": [
    "##### Baseline"
   ]
  },
  {
   "cell_type": "code",
   "execution_count": 14,
   "id": "74e0b809-deae-48dc-9ce9-a618dc5af8f6",
   "metadata": {},
   "outputs": [
    {
     "name": "stderr",
     "output_type": "stream",
     "text": [
      "100%|██████████████████████████████████████████████████████████████████████████████| 1000/1000 [21:21<00:00,  1.28s/it]\n"
     ]
    },
    {
     "data": {
      "image/png": "[encoded data removed]",
      "text/plain": [
       "<Figure size 600x300 with 1 Axes>"
      ]
     },
     "metadata": {},
     "output_type": "display_data"
    }
   ],
   "source": [
    "# Run baseline simulation\n",
    "baseline_portfolio_values = []\n",
    "firm_names = [firm.name for firm in firms] # Get firm names for tracking\n",
    "baseline_firm_pd_data = {name: [] for name in firm_names}  # Store PDs by firm name\n",
    "baseline_firm_damage_ratio = {name: [] for name in firm_names} # Store Damage ratio by firm name\n",
    "baseline_asset_simulation_data = []\n",
    "np.random.seed(0)\n",
    "for i in tqdm(range(n_sims)):\n",
    "    assets = portfolio.assets.asset.to_list().copy()\n",
    "    insurer = Insurance(\"Insurance company\", capital=ins_cap, subscribers=[])\n",
    "    kernel = Kernel(assets=assets, insurers=[insurer])\n",
    "    for asset in assets: \n",
    "        if insured:\n",
    "            asset.add_insurer(insurer)\n",
    "        # Flood entity sim simulates floods at the asset-level without considering other asset events\n",
    "        FloodEntitySim(asset, model=\"exceedance_poisson\").simulate(time_horizon=time_horizon, kernel=kernel)\n",
    "    kernel.run(time_horizon=time_horizon, verbose=0)\n",
    "    baseline_portfolio_values.append(portfolio.underlying_value)\n",
    "    # Calculate Merton PDs for each firm and store by name\n",
    "    for firm in firms:\n",
    "        # Calculate change in PD\n",
    "        base_pd = merton_probability_of_default(V=firm.base_value, sigma_V=sigma, D=firm.original_liabilities)\n",
    "        post_pd = merton_probability_of_default(V=firm.npv, sigma_V=sigma, D=firm.original_liabilities)\n",
    "        delta_pd = post_pd - base_pd\n",
    "        # Store in firm-specific list\n",
    "        baseline_firm_pd_data[firm.name].append(delta_pd)\n",
    "        # Calculate damage ratio\n",
    "        total_damages = firm.total_replacement_costs + firm.total_business_disruption\n",
    "        damage_ratio = total_damages / firm.base_value if firm.base_value > 0 else 0\n",
    "        baseline_firm_damage_ratio[firm.name].append(damage_ratio)\n",
    "    # Collect asset-level data before reset\n",
    "    asset_data = collect_asset_data(assets)\n",
    "    baseline_asset_simulation_data.append(asset_data)\n",
    "    for asset in assets:\n",
    "        asset.reset() # Reset assets to their original state\n",
    "plot_portfolio_values(baseline_portfolio_values, 'Baseline')"
   ]
  },
  {
   "cell_type": "markdown",
   "id": "226f51c0-41e8-4bc2-9782-035abae180e3",
   "metadata": {},
   "source": [
    "##### Adaptation"
   ]
  },
  {
   "cell_type": "code",
   "execution_count": 59,
   "id": "629c59e2-e8fe-4e8a-9821-f35e0d988a89",
   "metadata": {},
   "outputs": [
    {
     "name": "stdout",
     "output_type": "stream",
     "text": [
      "Applied 100-year flood protection to all 1750 assets in portfolio\n"
     ]
    }
   ],
   "source": [
    "# Can run different adaptation scenarios (comment out the one we are interested in)\n",
    "adaptation_portfolio = copy.deepcopy(portfolio) #\n",
    "# Scenario 1: All assets are protected up to 50-year flood\n",
    "apply_portfolio_adaptation(adaptation_portfolio, 100)\n",
    "# Update exceedance curves for all assets in portfolio\n",
    "adaptation_portfolio.update_exceedance_curves()\n",
    "# # Scenario 2: Certain companies enact policy to reinforce assets to 100-year protection\n",
    "# company_names = ['Thai Holdings 001', 'Thai Holdings 002', 'Thai Holdings 003', 'Thai Holdings 004', 'Thai Holdings 005',\n",
    "#                 'Thai Holdings 006', 'Thai Holdings 007', 'Thai Holdings 008', 'Thai Holdings 009', 'Thai Holdings 010',\n",
    "#                 'Thai Holdings 038', 'Thai Holdings 018', 'Thai Holdings 027', 'Thai Holdings 020', 'Thai Holdings 049']\n",
    "# for company in company_names:\n",
    "#     apply_firm_adaptation(adaptation_portfolio, company, 100)\n",
    "# # Update exceedance curves for all assets in portfolio\n",
    "# adaptation_portfolio.update_exceedance_curves()"
   ]
  },
  {
   "cell_type": "code",
   "execution_count": 60,
   "id": "b3b4491d-8802-4f15-801a-4235ee172096",
   "metadata": {},
   "outputs": [
    {
     "name": "stderr",
     "output_type": "stream",
     "text": [
      "100%|██████████████████████████████████████████████████████████████████████████████| 1000/1000 [18:38<00:00,  1.12s/it]\n"
     ]
    },
    {
     "data": {
      "image/png": "[encoded data removed]",
      "text/plain": [
       "<Figure size 900x300 with 1 Axes>"
      ]
     },
     "metadata": {},
     "output_type": "display_data"
    }
   ],
   "source": [
    "# Run adaptation simulation\n",
    "adaptation_portfolio_values = []\n",
    "firm_names = [firm.name for firm in firms] # Get firm names for tracking\n",
    "adaptation_firm_pd_data = {name: [] for name in firm_names}  # Store PDs by firm name\n",
    "adaptation_firm_damage_ratio = {name: [] for name in firm_names} # Store Damage ratio by firm name\n",
    "adapted_asset_simulation_data = [] # list for storing\n",
    "np.random.seed(0)\n",
    "for i in tqdm(range(n_sims)):\n",
    "    assets = adaptation_portfolio.assets.asset.to_list().copy()\n",
    "    insurer = Insurance(\"Insurance company\", capital=ins_cap, subscribers=[]) \n",
    "    kernel = Kernel(assets=assets, insurers=[insurer])\n",
    "    for asset in assets:\n",
    "        if insured:\n",
    "            asset.add_insurer(insurer)\n",
    "        # Flood entity sim simulates floods at the asset-level without considering other asset events\n",
    "        FloodEntitySim(asset, model=\"exceedance_poisson\").simulate(time_horizon=time_horizon, kernel=kernel)\n",
    "    kernel.run(time_horizon=time_horizon, verbose=0)\n",
    "    adaptation_portfolio_values.append(adaptation_portfolio.underlying_value)\n",
    "    # Pull adaptation firms\n",
    "    adaptation_firms = adaptation_portfolio.positions.firm\n",
    "    # Calculate Merton PDs for each firm and store by name\n",
    "    for firm in adaptation_firms:\n",
    "        # Calculate change in PD\n",
    "        base_pd = merton_probability_of_default(V=firm.base_value, sigma_V=sigma, D=firm.original_liabilities)\n",
    "        post_pd = merton_probability_of_default(V=firm.npv, sigma_V=sigma, D=firm.original_liabilities)\n",
    "        delta_pd = post_pd - base_pd\n",
    "        # Store in firm-specific list\n",
    "        adaptation_firm_pd_data[firm.name].append(delta_pd)\n",
    "        # Calculate damage ratio\n",
    "        total_damages = firm.total_replacement_costs + firm.total_business_disruption\n",
    "        damage_ratio = total_damages / firm.base_value if firm.base_value > 0 else 0\n",
    "        adaptation_firm_damage_ratio[firm.name].append(damage_ratio)\n",
    "    # Collect asset-level data before reset\n",
    "    asset_data = collect_asset_data(assets)\n",
    "    adapted_asset_simulation_data.append(asset_data)\n",
    "    for asset in assets:\n",
    "        asset.reset() # Reset assets to their original state\n",
    "plot_portfolio_values(adaptation_portfolio_values, 'Adaptation')"
   ]
  },
  {
   "cell_type": "markdown",
   "id": "6432db5f-4870-4b5a-bc2c-ce00de022f09",
   "metadata": {},
   "source": [
    "### Step 3: Various Plots"
   ]
  },
  {
   "cell_type": "code",
   "execution_count": 61,
   "id": "8e5d8182-a28d-43f3-a5d7-cd1fdc393546",
   "metadata": {},
   "outputs": [
    {
     "data": {
      "image/png": "[encoded data removed]",
      "text/plain": [
       "<Figure size 800x400 with 1 Axes>"
      ]
     },
     "metadata": {},
     "output_type": "display_data"
    }
   ],
   "source": [
    "# Plot them together as probability densitiies\n",
    "fig, ax = plt.subplots(figsize=(8, 4))\n",
    "\n",
    "# Common bin edges\n",
    "all_values = np.concatenate([baseline_portfolio_values, adaptation_portfolio_values])\n",
    "bins = np.linspace(all_values.min(), all_values.max(), 21)\n",
    "\n",
    "# Weights so that the bars sum to 1\n",
    "w_baseline = np.ones_like(baseline_portfolio_values) / len(baseline_portfolio_values)\n",
    "w_adapt = np.ones_like(adaptation_portfolio_values) / len(adaptation_portfolio_values)\n",
    "\n",
    "# Probability per bin histograms\n",
    "ax.hist(baseline_portfolio_values, bins=bins, weights=w_baseline,\n",
    "        alpha=0.5, color='lightblue', edgecolor='black', label='Baseline')\n",
    "ax.hist(adaptation_portfolio_values, bins=bins, weights=w_adapt,\n",
    "        alpha=0.5, color='pink', edgecolor='black', label='Adaptation')\n",
    "\n",
    "ax.set_title(\"Distribution of Portfolio Values\")\n",
    "ax.set_xlabel(\"Portfolio Value\")\n",
    "ax.set_ylabel(\"Probability\")\n",
    "ax.legend()\n",
    "plt.show()"
   ]
  },
  {
   "cell_type": "code",
   "execution_count": 62,
   "id": "c8a7e862-878c-4942-b461-6f7610460410",
   "metadata": {},
   "outputs": [
    {
     "data": {
      "application/vnd.plotly.v1+json": {
       "config": {
        "plotlyServerURL": "https://plot.ly"
       },
       "data": [
        {
         "cliponaxis": false,
         "connector": {
          "line": {
           "color": "rgb(63, 63, 63)"
          }
         },
         "measure": [
          "relative",
          "relative",
          "relative",
          "total"
         ],
         "name": "PRISK - Waterfall",
         "orientation": "v",
         "text": [
          "34.42M",
          "-9.35M",
          "-8.91M",
          "16.16M"
         ],
         "textposition": "outside",
         "type": "waterfall",
         "x": [
          "Base Value",
          "Capital Damagages",
          "Business disruptions",
          "Adjusted Value"
         ],
         "y": [
          34419867.943563566,
          -9347301.947235133,
          -8909399.09213014,
          16163166.904198293
         ]
        }
       ],
       "layout": {
        "margin": {
         "b": 20,
         "l": 20,
         "r": 20,
         "t": 40
        },
        "showlegend": false,
        "template": {
         "data": {
          "bar": [
           {
            "error_x": {
             "color": "rgb(36,36,36)"
            },
            "error_y": {
             "color": "rgb(36,36,36)"
            },
            "marker": {
             "line": {
              "color": "white",
              "width": 0.5
             },
             "pattern": {
              "fillmode": "overlay",
              "size": 10,
              "solidity": 0.2
             }
            },
            "type": "bar"
           }
          ],
          "barpolar": [
           {
            "marker": {
             "line": {
              "color": "white",
              "width": 0.5
             },
             "pattern": {
              "fillmode": "overlay",
              "size": 10,
              "solidity": 0.2
             }
            },
            "type": "barpolar"
           }
          ],
          "carpet": [
           {
            "aaxis": {
             "endlinecolor": "rgb(36,36,36)",
             "gridcolor": "white",
             "linecolor": "white",
             "minorgridcolor": "white",
             "startlinecolor": "rgb(36,36,36)"
            },
            "baxis": {
             "endlinecolor": "rgb(36,36,36)",
             "gridcolor": "white",
             "linecolor": "white",
             "minorgridcolor": "white",
             "startlinecolor": "rgb(36,36,36)"
            },
            "type": "carpet"
           }
          ],
          "choropleth": [
           {
            "colorbar": {
             "outlinewidth": 1,
             "tickcolor": "rgb(36,36,36)",
             "ticks": "outside"
            },
            "type": "choropleth"
           }
          ],
          "contour": [
           {
            "colorbar": {
             "outlinewidth": 1,
             "tickcolor": "rgb(36,36,36)",
             "ticks": "outside"
            },
            "colorscale": [
             [
              0,
              "#440154"
             ],
             [
              0.1111111111111111,
              "#482878"
             ],
             [
              0.2222222222222222,
              "#3e4989"
             ],
             [
              0.3333333333333333,
              "#31688e"
             ],
             [
              0.4444444444444444,
              "#26828e"
             ],
             [
              0.5555555555555556,
              "#1f9e89"
             ],
             [
              0.6666666666666666,
              "#35b779"
             ],
             [
              0.7777777777777778,
              "#6ece58"
             ],
             [
              0.8888888888888888,
              "#b5de2b"
             ],
             [
              1,
              "#fde725"
             ]
            ],
            "type": "contour"
           }
          ],
          "contourcarpet": [
           {
            "colorbar": {
             "outlinewidth": 1,
             "tickcolor": "rgb(36,36,36)",
             "ticks": "outside"
            },
            "type": "contourcarpet"
           }
          ],
          "heatmap": [
           {
            "colorbar": {
             "outlinewidth": 1,
             "tickcolor": "rgb(36,36,36)",
             "ticks": "outside"
            },
            "colorscale": [
             [
              0,
              "#440154"
             ],
             [
              0.1111111111111111,
              "#482878"
             ],
             [
              0.2222222222222222,
              "#3e4989"
             ],
             [
              0.3333333333333333,
              "#31688e"
             ],
             [
              0.4444444444444444,
              "#26828e"
             ],
             [
              0.5555555555555556,
              "#1f9e89"
             ],
             [
              0.6666666666666666,
              "#35b779"
             ],
             [
              0.7777777777777778,
              "#6ece58"
             ],
             [
              0.8888888888888888,
              "#b5de2b"
             ],
             [
              1,
              "#fde725"
             ]
            ],
            "type": "heatmap"
           }
          ],
          "histogram": [
           {
            "marker": {
             "line": {
              "color": "white",
              "width": 0.6
             }
            },
            "type": "histogram"
           }
          ],
          "histogram2d": [
           {
            "colorbar": {
             "outlinewidth": 1,
             "tickcolor": "rgb(36,36,36)",
             "ticks": "outside"
            },
            "colorscale": [
             [
              0,
              "#440154"
             ],
             [
              0.1111111111111111,
              "#482878"
             ],
             [
              0.2222222222222222,
              "#3e4989"
             ],
             [
              0.3333333333333333,
              "#31688e"
             ],
             [
              0.4444444444444444,
              "#26828e"
             ],
             [
              0.5555555555555556,
              "#1f9e89"
             ],
             [
              0.6666666666666666,
              "#35b779"
             ],
             [
              0.7777777777777778,
              "#6ece58"
             ],
             [
              0.8888888888888888,
              "#b5de2b"
             ],
             [
              1,
              "#fde725"
             ]
            ],
            "type": "histogram2d"
           }
          ],
          "histogram2dcontour": [
           {
            "colorbar": {
             "outlinewidth": 1,
             "tickcolor": "rgb(36,36,36)",
             "ticks": "outside"
            },
            "colorscale": [
             [
              0,
              "#440154"
             ],
             [
              0.1111111111111111,
              "#482878"
             ],
             [
              0.2222222222222222,
              "#3e4989"
             ],
             [
              0.3333333333333333,
              "#31688e"
             ],
             [
              0.4444444444444444,
              "#26828e"
             ],
             [
              0.5555555555555556,
              "#1f9e89"
             ],
             [
              0.6666666666666666,
              "#35b779"
             ],
             [
              0.7777777777777778,
              "#6ece58"
             ],
             [
              0.8888888888888888,
              "#b5de2b"
             ],
             [
              1,
              "#fde725"
             ]
            ],
            "type": "histogram2dcontour"
           }
          ],
          "mesh3d": [
           {
            "colorbar": {
             "outlinewidth": 1,
             "tickcolor": "rgb(36,36,36)",
             "ticks": "outside"
            },
            "type": "mesh3d"
           }
          ],
          "parcoords": [
           {
            "line": {
             "colorbar": {
              "outlinewidth": 1,
              "tickcolor": "rgb(36,36,36)",
              "ticks": "outside"
             }
            },
            "type": "parcoords"
           }
          ],
          "pie": [
           {
            "automargin": true,
            "type": "pie"
           }
          ],
          "scatter": [
           {
            "fillpattern": {
             "fillmode": "overlay",
             "size": 10,
             "solidity": 0.2
            },
            "type": "scatter"
           }
          ],
          "scatter3d": [
           {
            "line": {
             "colorbar": {
              "outlinewidth": 1,
              "tickcolor": "rgb(36,36,36)",
              "ticks": "outside"
             }
            },
            "marker": {
             "colorbar": {
              "outlinewidth": 1,
              "tickcolor": "rgb(36,36,36)",
              "ticks": "outside"
             }
            },
            "type": "scatter3d"
           }
          ],
          "scattercarpet": [
           {
            "marker": {
             "colorbar": {
              "outlinewidth": 1,
              "tickcolor": "rgb(36,36,36)",
              "ticks": "outside"
             }
            },
            "type": "scattercarpet"
           }
          ],
          "scattergeo": [
           {
            "marker": {
             "colorbar": {
              "outlinewidth": 1,
              "tickcolor": "rgb(36,36,36)",
              "ticks": "outside"
             }
            },
            "type": "scattergeo"
           }
          ],
          "scattergl": [
           {
            "marker": {
             "colorbar": {
              "outlinewidth": 1,
              "tickcolor": "rgb(36,36,36)",
              "ticks": "outside"
             }
            },
            "type": "scattergl"
           }
          ],
          "scattermap": [
           {
            "marker": {
             "colorbar": {
              "outlinewidth": 1,
              "tickcolor": "rgb(36,36,36)",
              "ticks": "outside"
             }
            },
            "type": "scattermap"
           }
          ],
          "scattermapbox": [
           {
            "marker": {
             "colorbar": {
              "outlinewidth": 1,
              "tickcolor": "rgb(36,36,36)",
              "ticks": "outside"
             }
            },
            "type": "scattermapbox"
           }
          ],
          "scatterpolar": [
           {
            "marker": {
             "colorbar": {
              "outlinewidth": 1,
              "tickcolor": "rgb(36,36,36)",
              "ticks": "outside"
             }
            },
            "type": "scatterpolar"
           }
          ],
          "scatterpolargl": [
           {
            "marker": {
             "colorbar": {
              "outlinewidth": 1,
              "tickcolor": "rgb(36,36,36)",
              "ticks": "outside"
             }
            },
            "type": "scatterpolargl"
           }
          ],
          "scatterternary": [
           {
            "marker": {
             "colorbar": {
              "outlinewidth": 1,
              "tickcolor": "rgb(36,36,36)",
              "ticks": "outside"
             }
            },
            "type": "scatterternary"
           }
          ],
          "surface": [
           {
            "colorbar": {
             "outlinewidth": 1,
             "tickcolor": "rgb(36,36,36)",
             "ticks": "outside"
            },
            "colorscale": [
             [
              0,
              "#440154"
             ],
             [
              0.1111111111111111,
              "#482878"
             ],
             [
              0.2222222222222222,
              "#3e4989"
             ],
             [
              0.3333333333333333,
              "#31688e"
             ],
             [
              0.4444444444444444,
              "#26828e"
             ],
             [
              0.5555555555555556,
              "#1f9e89"
             ],
             [
              0.6666666666666666,
              "#35b779"
             ],
             [
              0.7777777777777778,
              "#6ece58"
             ],
             [
              0.8888888888888888,
              "#b5de2b"
             ],
             [
              1,
              "#fde725"
             ]
            ],
            "type": "surface"
           }
          ],
          "table": [
           {
            "cells": {
             "fill": {
              "color": "rgb(237,237,237)"
             },
             "line": {
              "color": "white"
             }
            },
            "header": {
             "fill": {
              "color": "rgb(217,217,217)"
             },
             "line": {
              "color": "white"
             }
            },
            "type": "table"
           }
          ]
         },
         "layout": {
          "annotationdefaults": {
           "arrowhead": 0,
           "arrowwidth": 1
          },
          "autotypenumbers": "strict",
          "coloraxis": {
           "colorbar": {
            "outlinewidth": 1,
            "tickcolor": "rgb(36,36,36)",
            "ticks": "outside"
           }
          },
          "colorscale": {
           "diverging": [
            [
             0,
             "rgb(103,0,31)"
            ],
            [
             0.1,
             "rgb(178,24,43)"
            ],
            [
             0.2,
             "rgb(214,96,77)"
            ],
            [
             0.3,
             "rgb(244,165,130)"
            ],
            [
             0.4,
             "rgb(253,219,199)"
            ],
            [
             0.5,
             "rgb(247,247,247)"
            ],
            [
             0.6,
             "rgb(209,229,240)"
            ],
            [
             0.7,
             "rgb(146,197,222)"
            ],
            [
             0.8,
             "rgb(67,147,195)"
            ],
            [
             0.9,
             "rgb(33,102,172)"
            ],
            [
             1,
             "rgb(5,48,97)"
            ]
           ],
           "sequential": [
            [
             0,
             "#440154"
            ],
            [
             0.1111111111111111,
             "#482878"
            ],
            [
             0.2222222222222222,
             "#3e4989"
            ],
            [
             0.3333333333333333,
             "#31688e"
            ],
            [
             0.4444444444444444,
             "#26828e"
            ],
            [
             0.5555555555555556,
             "#1f9e89"
            ],
            [
             0.6666666666666666,
             "#35b779"
            ],
            [
             0.7777777777777778,
             "#6ece58"
            ],
            [
             0.8888888888888888,
             "#b5de2b"
            ],
            [
             1,
             "#fde725"
            ]
           ],
           "sequentialminus": [
            [
             0,
             "#440154"
            ],
            [
             0.1111111111111111,
             "#482878"
            ],
            [
             0.2222222222222222,
             "#3e4989"
            ],
            [
             0.3333333333333333,
             "#31688e"
            ],
            [
             0.4444444444444444,
             "#26828e"
            ],
            [
             0.5555555555555556,
             "#1f9e89"
            ],
            [
             0.6666666666666666,
             "#35b779"
            ],
            [
             0.7777777777777778,
             "#6ece58"
            ],
            [
             0.8888888888888888,
             "#b5de2b"
            ],
            [
             1,
             "#fde725"
            ]
           ]
          },
          "colorway": [
           "#1F77B4",
           "#FF7F0E",
           "#2CA02C",
           "#D62728",
           "#9467BD",
           "#8C564B",
           "#E377C2",
           "#7F7F7F",
           "#BCBD22",
           "#17BECF"
          ],
          "font": {
           "color": "rgb(36,36,36)"
          },
          "geo": {
           "bgcolor": "white",
           "lakecolor": "white",
           "landcolor": "white",
           "showlakes": true,
           "showland": true,
           "subunitcolor": "white"
          },
          "hoverlabel": {
           "align": "left"
          },
          "hovermode": "closest",
          "mapbox": {
           "style": "light"
          },
          "paper_bgcolor": "white",
          "plot_bgcolor": "white",
          "polar": {
           "angularaxis": {
            "gridcolor": "rgb(232,232,232)",
            "linecolor": "rgb(36,36,36)",
            "showgrid": false,
            "showline": true,
            "ticks": "outside"
           },
           "bgcolor": "white",
           "radialaxis": {
            "gridcolor": "rgb(232,232,232)",
            "linecolor": "rgb(36,36,36)",
            "showgrid": false,
            "showline": true,
            "ticks": "outside"
           }
          },
          "scene": {
           "xaxis": {
            "backgroundcolor": "white",
            "gridcolor": "rgb(232,232,232)",
            "gridwidth": 2,
            "linecolor": "rgb(36,36,36)",
            "showbackground": true,
            "showgrid": false,
            "showline": true,
            "ticks": "outside",
            "zeroline": false,
            "zerolinecolor": "rgb(36,36,36)"
           },
           "yaxis": {
            "backgroundcolor": "white",
            "gridcolor": "rgb(232,232,232)",
            "gridwidth": 2,
            "linecolor": "rgb(36,36,36)",
            "showbackground": true,
            "showgrid": false,
            "showline": true,
            "ticks": "outside",
            "zeroline": false,
            "zerolinecolor": "rgb(36,36,36)"
           },
           "zaxis": {
            "backgroundcolor": "white",
            "gridcolor": "rgb(232,232,232)",
            "gridwidth": 2,
            "linecolor": "rgb(36,36,36)",
            "showbackground": true,
            "showgrid": false,
            "showline": true,
            "ticks": "outside",
            "zeroline": false,
            "zerolinecolor": "rgb(36,36,36)"
           }
          },
          "shapedefaults": {
           "fillcolor": "black",
           "line": {
            "width": 0
           },
           "opacity": 0.3
          },
          "ternary": {
           "aaxis": {
            "gridcolor": "rgb(232,232,232)",
            "linecolor": "rgb(36,36,36)",
            "showgrid": false,
            "showline": true,
            "ticks": "outside"
           },
           "baxis": {
            "gridcolor": "rgb(232,232,232)",
            "linecolor": "rgb(36,36,36)",
            "showgrid": false,
            "showline": true,
            "ticks": "outside"
           },
           "bgcolor": "white",
           "caxis": {
            "gridcolor": "rgb(232,232,232)",
            "linecolor": "rgb(36,36,36)",
            "showgrid": false,
            "showline": true,
            "ticks": "outside"
           }
          },
          "title": {
           "x": 0.05
          },
          "xaxis": {
           "automargin": true,
           "gridcolor": "rgb(232,232,232)",
           "linecolor": "rgb(36,36,36)",
           "showgrid": false,
           "showline": true,
           "ticks": "outside",
           "title": {
            "standoff": 15
           },
           "zeroline": false,
           "zerolinecolor": "rgb(36,36,36)"
          },
          "yaxis": {
           "automargin": true,
           "gridcolor": "rgb(232,232,232)",
           "linecolor": "rgb(36,36,36)",
           "showgrid": false,
           "showline": true,
           "ticks": "outside",
           "title": {
            "standoff": 15
           },
           "zeroline": false,
           "zerolinecolor": "rgb(36,36,36)"
          }
         }
        },
        "xaxis": {
         "title": {
          "text": "Firm value impacts: Manufacturing Asset 00180"
         }
        },
        "yaxis": {
         "range": [
          null,
          36140861.340741746
         ],
         "showgrid": true,
         "tickformat": ",",
         "tickprefix": "$",
         "title": {
          "text": "Value"
         }
        }
       }
      },
      "image/png": "[encoded data removed]"
     },
     "metadata": {},
     "output_type": "display_data"
    }
   ],
   "source": [
    "# Plot asset-level waterfall chart\n",
    "temp_portfolio = copy.deepcopy(portfolio) \n",
    "assets = temp_portfolio.assets.asset.to_list().copy()\n",
    "insurer = Insurance(\"Insurance company\", capital=ins_cap, subscribers=[]) \n",
    "kernel = Kernel(assets=assets, insurers=[insurer])\n",
    "np.random.seed(0)\n",
    "for asset in assets:\n",
    "    # Flood entity sim simulates floods at the asset-level without considering other asset events\n",
    "    FloodEntitySim(asset, model=\"exceedance_poisson\").simulate(time_horizon=25, kernel=kernel)\n",
    "kernel.run(time_horizon=time_horizon, verbose=0)\n",
    "asset_id = 45\n",
    "# temp_portfolio.assets.asset[asset_id].plot_simple_risk()\n",
    "asset_list = sorted(temp_portfolio.assets.asset, key=lambda x: x.total_replacement_costs, reverse=True)\n",
    "asset_list[asset_id].plot_simple_risk()"
   ]
  },
  {
   "cell_type": "code",
   "execution_count": 19,
   "id": "416af3d9-ab5a-4763-be34-84ece3bfe061",
   "metadata": {},
   "outputs": [
    {
     "data": {
      "image/png": "[encoded data removed]",
      "text/plain": [
       "<Figure size 900x300 with 1 Axes>"
      ]
     },
     "metadata": {},
     "output_type": "display_data"
    }
   ],
   "source": [
    "def plot_portfolio_values(pv_list, label):\n",
    "    fig, ax = plt.subplots(figsize=(9, 3))\n",
    "    counts, bins, _ = ax.hist(pv_list, bins=20, alpha=0.5, edgecolor='black', color='lightblue')\n",
    "    ax.clear()\n",
    "\n",
    "    # Normalize so bar heights = probabilities\n",
    "    probs = counts / counts.sum()\n",
    "    ax.bar(bins[:-1], probs, width=np.diff(bins), align=\"edge\",\n",
    "           alpha=0.5, edgecolor=\"black\", color=\"lightblue\", label=label)\n",
    "\n",
    "    ax.set_title(\"Distribution of Portfolio Values\")\n",
    "    ax.set_xlabel(\"Portfolio Value\")\n",
    "    ax.set_ylabel(\"Probability\")\n",
    "    ax.legend()\n",
    "\n",
    "plot_portfolio_values(baseline_portfolio_values, 'Baseline')"
   ]
  },
  {
   "cell_type": "markdown",
   "id": "ddcc5ad7-8080-4b30-b127-623c9e289812",
   "metadata": {},
   "source": [
    "##### PD plots"
   ]
  },
  {
   "cell_type": "code",
   "execution_count": 20,
   "id": "a456f085-49d8-4877-83b0-fc2272f9e345",
   "metadata": {},
   "outputs": [],
   "source": [
    "# Analyze PD\n",
    "baseline_firm_pd_df = pd.DataFrame(baseline_firm_pd_data)\n",
    "baseline_firm_pd_df.index.name = 'simulation'\n",
    "adaptation_firm_pd_df = pd.DataFrame(adaptation_firm_pd_data)\n",
    "adaptation_firm_pd_df.index.name = 'simulation'"
   ]
  },
  {
   "cell_type": "code",
   "execution_count": 21,
   "id": "0c35f51b-f8ab-4fc8-874c-dda2827dc551",
   "metadata": {},
   "outputs": [
    {
     "data": {
      "image/png": "[encoded data removed]",
      "text/plain": [
       "<Figure size 800x400 with 1 Axes>"
      ]
     },
     "metadata": {},
     "output_type": "display_data"
    }
   ],
   "source": [
    "# Plot baseline and adapted firm PDs\n",
    "firm_a = 'Thai Holdings 027'\n",
    "firm_a_baseline = baseline_firm_pd_df[firm_a]\n",
    "firm_a_adapted = adaptation_firm_pd_df[firm_a]\n",
    "combined = pd.concat([firm_a_baseline, firm_a_adapted], axis=1)\n",
    "fig, ax = plt.subplots(figsize=(8, 4))\n",
    "parts = ax.violinplot(\n",
    "    combined,\n",
    "    positions=range(1, len(combined.columns) + 1),\n",
    "    widths=0.8,\n",
    "    showmeans=False,\n",
    "    showmedians=True,\n",
    "    showextrema=True\n",
    ")\n",
    "\n",
    "# Style violins\n",
    "for pc in parts['bodies']:\n",
    "    pc.set_facecolor('lightblue')\n",
    "    pc.set_edgecolor('black')\n",
    "    pc.set_alpha(0.7)\n",
    "\n",
    "# X labels\n",
    "ax.set_xticks(range(1, len(combined.columns) + 1))\n",
    "custom_labels = ['Baseline', 'Adaptation']\n",
    "ax.set_xticklabels(custom_labels, rotation=45, ha=\"right\")\n",
    "\n",
    "# format y ticks as bps without changing data\n",
    "ax.yaxis.set_major_formatter(FuncFormatter(lambda y, _: f\"{y*1e4:.0f}\"))\n",
    "ax.set_ylabel(\"ΔPD (bps)\")\n",
    "ax.axhline(0, lw=1, alpha=0.4)\n",
    "ax.yaxis.set_major_locator(MaxNLocator(integer=True))\n",
    "\n",
    "ax.set_title(f\"{firm_a}\")\n",
    "ax.set_ylabel(\"ΔPD (bps)\")\n",
    "ax.grid(axis='y', alpha=0.2)\n",
    "\n",
    "plt.tight_layout()\n",
    "plt.show()"
   ]
  },
  {
   "cell_type": "code",
   "execution_count": 22,
   "id": "260edb9a-a2f6-4dd5-aafe-2081b8cef4a1",
   "metadata": {
    "jupyter": {
     "source_hidden": true
    }
   },
   "outputs": [],
   "source": [
    "def plot_pd_distributions(df, companies_to_plot):\n",
    "    \"\"\"\n",
    "    Plot violin distributions of ΔPD for specific companies.\n",
    "    \n",
    "    Parameters\n",
    "    ----------\n",
    "    df : DataFrame\n",
    "        Columns = companies, rows = ΔPD values\n",
    "    companies_to_plot : list of str\n",
    "        List of company names (must match df.columns)\n",
    "    \"\"\"\n",
    "    # Select only the specified companies\n",
    "    cols = [c for c in companies_to_plot if c in df.columns]\n",
    "    data = [df[c].dropna().values for c in cols]\n",
    "\n",
    "    fig, ax = plt.subplots(figsize=(9, 4))\n",
    "\n",
    "    parts = ax.violinplot(\n",
    "        data,\n",
    "        positions=range(1, len(cols) + 1),\n",
    "        widths=0.8,\n",
    "        showmeans=False,\n",
    "        showmedians=True,\n",
    "        showextrema=True\n",
    "    )\n",
    "\n",
    "    # Style violins\n",
    "    for pc in parts['bodies']:\n",
    "        pc.set_facecolor('lightblue')\n",
    "        pc.set_edgecolor('black')\n",
    "        pc.set_alpha(0.7)\n",
    "    \n",
    "    # X labels\n",
    "    ax.set_xticks(range(1, len(cols) + 1))\n",
    "    custom_labels = ['Firm A', 'Firm B', 'Firm C', 'Firm D']\n",
    "    ax.set_xticklabels(custom_labels, rotation=45, ha=\"right\")\n",
    "\n",
    "    ax.set_title(\"Distribution of Probability of Default (ΔPD) across Selected Firms\")\n",
    "    ax.set_ylabel(\"ΔPD\")\n",
    "    ax.grid(axis='y', alpha=0.2)\n",
    "\n",
    "    plt.tight_layout()\n",
    "    plt.show()"
   ]
  },
  {
   "cell_type": "code",
   "execution_count": 23,
   "id": "206b86ba-67cb-42bb-880c-18668abf6b1a",
   "metadata": {},
   "outputs": [
    {
     "data": {
      "image/png": "[encoded data removed]",
      "text/plain": [
       "<Figure size 900x400 with 1 Axes>"
      ]
     },
     "metadata": {},
     "output_type": "display_data"
    }
   ],
   "source": [
    "# Plot multi compant PDs\n",
    "company_names = ['Thai Holdings 037', 'Thai Holdings 045', 'Thai Holdings 013', 'Thai Holdings 042']\n",
    "plot_pd_distributions(baseline_firm_pd_df, company_names)"
   ]
  },
  {
   "cell_type": "markdown",
   "id": "093c9101-6eb8-4d52-bbba-ab3493ba20ed",
   "metadata": {},
   "source": [
    "##### Asset-specific E-P curves"
   ]
  },
  {
   "cell_type": "code",
   "execution_count": 24,
   "id": "faf78913-a6da-4d7e-9bdb-ad35f064c853",
   "metadata": {},
   "outputs": [
    {
     "ename": "NameError",
     "evalue": "name 'baseline_asset_aal' is not defined",
     "output_type": "error",
     "traceback": [
      "\u001b[1;31m---------------------------------------------------------------------------\u001b[0m",
      "\u001b[1;31mNameError\u001b[0m                                 Traceback (most recent call last)",
      "Cell \u001b[1;32mIn[24], line 11\u001b[0m\n\u001b[0;32m      8\u001b[0m     \u001b[38;5;28;01mreturn\u001b[39;00m x, ep\n\u001b[0;32m     10\u001b[0m \u001b[38;5;66;03m# curves\u001b[39;00m\n\u001b[1;32m---> 11\u001b[0m x_b, ep_b \u001b[38;5;241m=\u001b[39m ep_curve(\u001b[43mbaseline_asset_aal\u001b[49m)\n\u001b[0;32m     12\u001b[0m x_a, ep_a \u001b[38;5;241m=\u001b[39m ep_curve(adapted_asset_aal)\n\u001b[0;32m     14\u001b[0m \u001b[38;5;66;03m# AALs\u001b[39;00m\n",
      "\u001b[1;31mNameError\u001b[0m: name 'baseline_asset_aal' is not defined"
     ]
    }
   ],
   "source": [
    "# Plot loss probability curves\n",
    "def ep_curve(losses):\n",
    "    \"\"\"Return (loss_sorted, exceedance_prob) using Weibull plotting positions.\"\"\"\n",
    "    x = np.sort(np.asarray(losses))            # ascending loss\n",
    "    n = x.size\n",
    "    # Exceedance probability P(Loss ≥ x_i)\n",
    "    ep = (n - np.arange(1, n+1) + 1) / (n + 1.0)\n",
    "    return x, ep\n",
    "\n",
    "# curves\n",
    "x_b, ep_b = ep_curve(baseline_asset_aal)\n",
    "x_a, ep_a = ep_curve(adapted_asset_aal)\n",
    "\n",
    "# AALs\n",
    "aal_b = float(np.mean(baseline_asset_aal))\n",
    "aal_a = float(np.mean(adapted_asset_aal))\n",
    "\n",
    "# plot\n",
    "fig, ax = plt.subplots(figsize=(8, 5))\n",
    "ax.plot(x_b, ep_b, color='blue', label=\"Baseline\")\n",
    "ax.plot(x_a, ep_a, color='orange', label=\"Adaptation\")\n",
    "\n",
    "# y as Annual Exceedance Probability (AEP)\n",
    "ax.set_yscale('log')\n",
    "ax.set_xscale('log')\n",
    "# lower y-limit ~ 1/N, upper at 1\n",
    "ymin = 1.0 / (len(baseline_asset_aal) + 1.0)\n",
    "ax.set_ylim(ymin, 1)\n",
    "ax.yaxis.set_major_formatter(PercentFormatter(2))  # show as %\n",
    "\n",
    "# AAL markers (vertical lines)\n",
    "ax.axvline(aal_b, linestyle='--', color='blue', linewidth=1, label=f\"AAL baseline ($ {aal_b:,.0f})\")\n",
    "ax.axvline(aal_a, linestyle='--', color='orange',  linewidth=1, label=f\"AAL adaptation ($ {aal_a:,.0f})\")\n",
    "\n",
    "ax.set_xlabel(\"Annual Loss ($)\")\n",
    "ax.set_ylabel(\"Exceedance probability (AEP)\")\n",
    "ax.set_title(\"Warehouse Asset 01054 Loss–Exceedance Curve (Baseline vs Adaptation)\")\n",
    "ax.grid(True, which='both', axis='both', alpha=0.2)\n",
    "ax.legend()\n",
    "plt.tight_layout()\n",
    "plt.show()"
   ]
  },
  {
   "cell_type": "markdown",
   "id": "afbc391b-0d71-467d-b8aa-5168d6f47f80",
   "metadata": {},
   "source": [
    "### SCRATCH ZONE"
   ]
  },
  {
   "cell_type": "code",
   "execution_count": 63,
   "id": "9870c76e-9ccf-46df-bd36-5e8852ac511e",
   "metadata": {},
   "outputs": [],
   "source": [
    "def analyze_simulation_results(all_simulation_data):\n",
    "    \"\"\"Analyze results across multiple simulations\"\"\"\n",
    "    # Convert list of dictionaries to organized structure\n",
    "    asset_results = {}\n",
    "    \n",
    "    for sim_data in all_simulation_data:\n",
    "        for asset_info in sim_data:\n",
    "            asset_name = asset_info['name']\n",
    "            if asset_name not in asset_results:\n",
    "                asset_results[asset_name] = {\n",
    "                    'climate_cost_path': [],\n",
    "                    'total_replacement_costs': [],\n",
    "                    'total_business_disruption': [],\n",
    "                    'npv_losses': [],\n",
    "                    'damage_ratios': []\n",
    "                }\n",
    "            \n",
    "            asset_results[asset_name]['climate_cost_path'].append(asset_info['climate_cost_path'])\n",
    "            asset_results[asset_name]['total_replacement_costs'].append(asset_info['total_replacement_costs'])\n",
    "            asset_results[asset_name]['total_business_disruption'].append(asset_info['total_business_disruption'])\n",
    "            asset_results[asset_name]['npv_losses'].append(asset_info['npv_loss'])\n",
    "            asset_results[asset_name]['damage_ratios'].append(asset_info['damage_ratio'])\n",
    "    \n",
    "    # Calculate summary statistics\n",
    "    summary = []\n",
    "    for asset_name, data in asset_results.items():\n",
    "        summary.append({\n",
    "            'asset_name': asset_name,\n",
    "            'mean_replacement_costs': np.mean(data['total_replacement_costs']),\n",
    "            'std_replacement_costs': np.std(data['total_replacement_costs']),\n",
    "            'p95_replacement_costs': np.percentile(data['total_replacement_costs'], 95),\n",
    "            'p99_replacement_costs': np.percentile(data['total_replacement_costs'], 99),\n",
    "            'max_replacement_costs': np.max(data['total_replacement_costs']),\n",
    "            'loss_frequency': np.sum(np.array(data['total_replacement_costs']) > 0) / len(data['total_replacement_costs']),\n",
    "            'mean_damage_ratio': np.mean(data['damage_ratios']),\n",
    "            'p95_damage_ratio': np.percentile(data['damage_ratios'], 95)\n",
    "        })\n",
    "    \n",
    "    return pd.DataFrame(summary).sort_values('mean_replacement_costs', ascending=False), asset_results"
   ]
  },
  {
   "cell_type": "code",
   "execution_count": 64,
   "id": "1b417096-250e-4e3a-9493-1794a939c073",
   "metadata": {},
   "outputs": [],
   "source": [
    "baseline_summary_df, baseline_detailed_results = analyze_simulation_results(baseline_asset_simulation_data)\n",
    "adapted_summary_df, adapted_detailed_results = analyze_simulation_results(adapted_asset_simulation_data)"
   ]
  },
  {
   "cell_type": "code",
   "execution_count": 65,
   "id": "8d2331e2-8c08-41ad-88a7-9358b36699b7",
   "metadata": {},
   "outputs": [
    {
     "data": {
      "text/html": [
       "<div>\n",
       "<style scoped>\n",
       "    .dataframe tbody tr th:only-of-type {\n",
       "        vertical-align: middle;\n",
       "    }\n",
       "\n",
       "    .dataframe tbody tr th {\n",
       "        vertical-align: top;\n",
       "    }\n",
       "\n",
       "    .dataframe thead th {\n",
       "        text-align: right;\n",
       "    }\n",
       "</style>\n",
       "<table border=\"1\" class=\"dataframe\">\n",
       "  <thead>\n",
       "    <tr style=\"text-align: right;\">\n",
       "      <th></th>\n",
       "      <th>asset_name</th>\n",
       "      <th>mean_replacement_costs</th>\n",
       "      <th>std_replacement_costs</th>\n",
       "      <th>p95_replacement_costs</th>\n",
       "      <th>p99_replacement_costs</th>\n",
       "      <th>max_replacement_costs</th>\n",
       "      <th>loss_frequency</th>\n",
       "      <th>mean_damage_ratio</th>\n",
       "      <th>p95_damage_ratio</th>\n",
       "    </tr>\n",
       "  </thead>\n",
       "  <tbody>\n",
       "    <tr>\n",
       "      <th>322</th>\n",
       "      <td>Power Asset 00014</td>\n",
       "      <td>4.546154e+08</td>\n",
       "      <td>4.179144e+08</td>\n",
       "      <td>1.271658e+09</td>\n",
       "      <td>1.759871e+09</td>\n",
       "      <td>2.668646e+09</td>\n",
       "      <td>0.741</td>\n",
       "      <td>0.518359</td>\n",
       "      <td>1.230126</td>\n",
       "    </tr>\n",
       "    <tr>\n",
       "      <th>521</th>\n",
       "      <td>Power Asset 00029</td>\n",
       "      <td>3.781701e+08</td>\n",
       "      <td>3.505388e+08</td>\n",
       "      <td>1.087751e+09</td>\n",
       "      <td>1.402469e+09</td>\n",
       "      <td>2.075015e+09</td>\n",
       "      <td>0.757</td>\n",
       "      <td>0.495308</td>\n",
       "      <td>1.397341</td>\n",
       "    </tr>\n",
       "    <tr>\n",
       "      <th>1087</th>\n",
       "      <td>Power Asset 00065</td>\n",
       "      <td>3.474948e+08</td>\n",
       "      <td>3.249537e+08</td>\n",
       "      <td>9.544640e+08</td>\n",
       "      <td>1.357453e+09</td>\n",
       "      <td>1.817185e+09</td>\n",
       "      <td>0.742</td>\n",
       "      <td>0.492157</td>\n",
       "      <td>1.355671</td>\n",
       "    </tr>\n",
       "    <tr>\n",
       "      <th>1337</th>\n",
       "      <td>Power Asset 00128</td>\n",
       "      <td>3.274950e+08</td>\n",
       "      <td>2.923450e+08</td>\n",
       "      <td>9.365484e+08</td>\n",
       "      <td>1.178252e+09</td>\n",
       "      <td>1.405982e+09</td>\n",
       "      <td>0.751</td>\n",
       "      <td>0.475713</td>\n",
       "      <td>1.322454</td>\n",
       "    </tr>\n",
       "    <tr>\n",
       "      <th>793</th>\n",
       "      <td>Power Asset 00040</td>\n",
       "      <td>2.108883e+08</td>\n",
       "      <td>1.922343e+08</td>\n",
       "      <td>5.747749e+08</td>\n",
       "      <td>7.630579e+08</td>\n",
       "      <td>1.176081e+09</td>\n",
       "      <td>0.754</td>\n",
       "      <td>0.555571</td>\n",
       "      <td>1.545398</td>\n",
       "    </tr>\n",
       "  </tbody>\n",
       "</table>\n",
       "</div>"
      ],
      "text/plain": [
       "             asset_name  mean_replacement_costs  std_replacement_costs  \\\n",
       "322   Power Asset 00014            4.546154e+08           4.179144e+08   \n",
       "521   Power Asset 00029            3.781701e+08           3.505388e+08   \n",
       "1087  Power Asset 00065            3.474948e+08           3.249537e+08   \n",
       "1337  Power Asset 00128            3.274950e+08           2.923450e+08   \n",
       "793   Power Asset 00040            2.108883e+08           1.922343e+08   \n",
       "\n",
       "      p95_replacement_costs  p99_replacement_costs  max_replacement_costs  \\\n",
       "322            1.271658e+09           1.759871e+09           2.668646e+09   \n",
       "521            1.087751e+09           1.402469e+09           2.075015e+09   \n",
       "1087           9.544640e+08           1.357453e+09           1.817185e+09   \n",
       "1337           9.365484e+08           1.178252e+09           1.405982e+09   \n",
       "793            5.747749e+08           7.630579e+08           1.176081e+09   \n",
       "\n",
       "      loss_frequency  mean_damage_ratio  p95_damage_ratio  \n",
       "322            0.741           0.518359          1.230126  \n",
       "521            0.757           0.495308          1.397341  \n",
       "1087           0.742           0.492157          1.355671  \n",
       "1337           0.751           0.475713          1.322454  \n",
       "793            0.754           0.555571          1.545398  "
      ]
     },
     "execution_count": 65,
     "metadata": {},
     "output_type": "execute_result"
    }
   ],
   "source": [
    "baseline_summary_df.head()"
   ]
  },
  {
   "cell_type": "code",
   "execution_count": 66,
   "id": "bb16babc-f1ca-4198-8d75-60c087114077",
   "metadata": {},
   "outputs": [
    {
     "data": {
      "text/html": [
       "<div>\n",
       "<style scoped>\n",
       "    .dataframe tbody tr th:only-of-type {\n",
       "        vertical-align: middle;\n",
       "    }\n",
       "\n",
       "    .dataframe tbody tr th {\n",
       "        vertical-align: top;\n",
       "    }\n",
       "\n",
       "    .dataframe thead th {\n",
       "        text-align: right;\n",
       "    }\n",
       "</style>\n",
       "<table border=\"1\" class=\"dataframe\">\n",
       "  <thead>\n",
       "    <tr style=\"text-align: right;\">\n",
       "      <th></th>\n",
       "      <th>asset_name</th>\n",
       "      <th>mean_replacement_costs</th>\n",
       "      <th>std_replacement_costs</th>\n",
       "      <th>p95_replacement_costs</th>\n",
       "      <th>p99_replacement_costs</th>\n",
       "      <th>max_replacement_costs</th>\n",
       "      <th>loss_frequency</th>\n",
       "      <th>mean_damage_ratio</th>\n",
       "      <th>p95_damage_ratio</th>\n",
       "    </tr>\n",
       "  </thead>\n",
       "  <tbody>\n",
       "    <tr>\n",
       "      <th>322</th>\n",
       "      <td>Power Asset 00014</td>\n",
       "      <td>9.212444e+07</td>\n",
       "      <td>1.955838e+08</td>\n",
       "      <td>5.125087e+08</td>\n",
       "      <td>8.353871e+08</td>\n",
       "      <td>1.369284e+09</td>\n",
       "      <td>0.221</td>\n",
       "      <td>0.105400</td>\n",
       "      <td>0.428280</td>\n",
       "    </tr>\n",
       "    <tr>\n",
       "      <th>521</th>\n",
       "      <td>Power Asset 00029</td>\n",
       "      <td>6.993071e+07</td>\n",
       "      <td>1.586730e+08</td>\n",
       "      <td>4.371266e+08</td>\n",
       "      <td>6.815133e+08</td>\n",
       "      <td>9.985310e+08</td>\n",
       "      <td>0.200</td>\n",
       "      <td>0.088360</td>\n",
       "      <td>0.390948</td>\n",
       "    </tr>\n",
       "    <tr>\n",
       "      <th>1087</th>\n",
       "      <td>Power Asset 00065</td>\n",
       "      <td>6.587396e+07</td>\n",
       "      <td>1.468882e+08</td>\n",
       "      <td>4.168681e+08</td>\n",
       "      <td>6.233814e+08</td>\n",
       "      <td>9.570031e+08</td>\n",
       "      <td>0.202</td>\n",
       "      <td>0.087636</td>\n",
       "      <td>0.393145</td>\n",
       "    </tr>\n",
       "    <tr>\n",
       "      <th>433</th>\n",
       "      <td>Power Asset 00134</td>\n",
       "      <td>6.083470e+07</td>\n",
       "      <td>1.274082e+08</td>\n",
       "      <td>3.322464e+08</td>\n",
       "      <td>5.175480e+08</td>\n",
       "      <td>1.298395e+09</td>\n",
       "      <td>0.245</td>\n",
       "      <td>0.097024</td>\n",
       "      <td>0.375876</td>\n",
       "    </tr>\n",
       "    <tr>\n",
       "      <th>1337</th>\n",
       "      <td>Power Asset 00128</td>\n",
       "      <td>5.588009e+07</td>\n",
       "      <td>1.216937e+08</td>\n",
       "      <td>3.603548e+08</td>\n",
       "      <td>5.031254e+08</td>\n",
       "      <td>6.875600e+08</td>\n",
       "      <td>0.211</td>\n",
       "      <td>0.081250</td>\n",
       "      <td>0.345000</td>\n",
       "    </tr>\n",
       "  </tbody>\n",
       "</table>\n",
       "</div>"
      ],
      "text/plain": [
       "             asset_name  mean_replacement_costs  std_replacement_costs  \\\n",
       "322   Power Asset 00014            9.212444e+07           1.955838e+08   \n",
       "521   Power Asset 00029            6.993071e+07           1.586730e+08   \n",
       "1087  Power Asset 00065            6.587396e+07           1.468882e+08   \n",
       "433   Power Asset 00134            6.083470e+07           1.274082e+08   \n",
       "1337  Power Asset 00128            5.588009e+07           1.216937e+08   \n",
       "\n",
       "      p95_replacement_costs  p99_replacement_costs  max_replacement_costs  \\\n",
       "322            5.125087e+08           8.353871e+08           1.369284e+09   \n",
       "521            4.371266e+08           6.815133e+08           9.985310e+08   \n",
       "1087           4.168681e+08           6.233814e+08           9.570031e+08   \n",
       "433            3.322464e+08           5.175480e+08           1.298395e+09   \n",
       "1337           3.603548e+08           5.031254e+08           6.875600e+08   \n",
       "\n",
       "      loss_frequency  mean_damage_ratio  p95_damage_ratio  \n",
       "322            0.221           0.105400          0.428280  \n",
       "521            0.200           0.088360          0.390948  \n",
       "1087           0.202           0.087636          0.393145  \n",
       "433            0.245           0.097024          0.375876  \n",
       "1337           0.211           0.081250          0.345000  "
      ]
     },
     "execution_count": 66,
     "metadata": {},
     "output_type": "execute_result"
    }
   ],
   "source": [
    "adapted_summary_df.head()"
   ]
  },
  {
   "cell_type": "code",
   "execution_count": 70,
   "id": "89fd5190-3b9c-43c6-b2d2-9979ca2f803a",
   "metadata": {},
   "outputs": [],
   "source": [
    "# asset = 'Warehouse Asset 01077'\n",
    "asset = 'Warehouse Asset 01085'\n",
    "# asset = 'Warehouse Asset 01491'\n",
    "# asset = 'Warehouse Asset 01600'\n",
    "# asset = 'Warehouse Asset 01668'\n",
    "# asset = 'Warehouse Asset 01679'\n",
    "# asset = 'Warehouse Asset 01683'\n",
    "# asset = 'Manufacturing Asset 00709'\n",
    "baseline_losses = [i for sublist in baseline_detailed_results[asset]['climate_cost_path'] for i in sublist]\n",
    "adapted_losses = [i for sublist in adapted_detailed_results[asset]['climate_cost_path'] for i in sublist]"
   ]
  },
  {
   "cell_type": "code",
   "execution_count": 71,
   "id": "41d3b706-0d53-4d72-82ef-c5c6465f0fb5",
   "metadata": {},
   "outputs": [
    {
     "name": "stdout",
     "output_type": "stream",
     "text": [
      "[np.int64(0), np.int64(43423), np.int64(0), np.int64(0), np.int64(0), np.int64(0), np.int64(68423), np.int64(0), np.int64(104403), np.int64(0)]\n",
      "[np.int64(0), np.int64(0), np.int64(0), np.int64(0), np.int64(0), np.int64(0), np.int64(0), np.int64(0), np.int64(0), np.int64(0)]\n"
     ]
    }
   ],
   "source": [
    "print(baseline_losses[:10])\n",
    "print(adapted_losses[:10])"
   ]
  },
  {
   "cell_type": "code",
   "execution_count": 72,
   "id": "e93d4366-3c13-4916-9355-985adf99fe66",
   "metadata": {},
   "outputs": [
    {
     "data": {
      "image/png": "[encoded data removed]",
      "text/plain": [
       "<Figure size 800x500 with 1 Axes>"
      ]
     },
     "metadata": {},
     "output_type": "display_data"
    }
   ],
   "source": [
    "# Plot loss probability curves\n",
    "def ep_curve(losses):\n",
    "    \"\"\"Return (loss_sorted, exceedance_prob) using Weibull plotting positions.\"\"\"\n",
    "    x = np.sort(np.asarray(losses))            # ascending loss\n",
    "    n = x.size\n",
    "    # Exceedance probability P(Loss ≥ x_i)\n",
    "    ep = (n - np.arange(1, n+1) + 1) / (n + 1.0)\n",
    "    return x, ep\n",
    "\n",
    "# curves\n",
    "x_b, ep_b = ep_curve(baseline_losses)\n",
    "x_a, ep_a = ep_curve(adapted_losses)\n",
    "\n",
    "# AALs\n",
    "aal_b = float(np.mean(baseline_losses))\n",
    "aal_a = float(np.mean(adapted_losses))\n",
    "\n",
    "# plot\n",
    "fig, ax = plt.subplots(figsize=(8, 5))\n",
    "ax.plot(ep_b, x_b, color='blue', label=\"Baseline\")\n",
    "ax.plot(ep_a, x_a, color='orange', label=\"Adaptation\")\n",
    "\n",
    "# y as Annual Exceedance Probability (AEP)\n",
    "# ax.set_yscale('log')\n",
    "# ax.set_xscale('log')\n",
    "# lower y-limit ~ 1/N, upper at 1\n",
    "# xmin = 1.0 / (len(baseline_losses) + 1.0)\n",
    "ax.set_xlim(0, 0.5)\n",
    "ax.set_ylim(0, )\n",
    "# ax.xaxis.set_major_formatter(PercentFormatter(2))  # show as %\n",
    "\n",
    "# AAL markers (vertical lines)\n",
    "ax.axhline(aal_b, linestyle='--', color='blue', linewidth=1, label=f\"AAL baseline ($ {aal_b:,.0f})\")\n",
    "ax.axhline(aal_a, linestyle='--', color='orange',  linewidth=1, label=f\"AAL adaptation ($ {aal_a:,.0f})\")\n",
    "\n",
    "ax.set_ylabel(\"Annual Loss ($)\")\n",
    "ax.set_xlabel(\"Exceedance probability (AEP)\")\n",
    "ax.set_title(f\"{asset} Loss–Exceedance Curve (Baseline vs Adaptation)\")\n",
    "ax.grid(True, which='both', axis='both', alpha=0.2)\n",
    "ax.legend()\n",
    "plt.tight_layout()\n",
    "plt.show()"
   ]
  },
  {
   "cell_type": "code",
   "execution_count": 87,
   "id": "11672b02-7002-43db-aa42-7f324a1517bb",
   "metadata": {},
   "outputs": [
    {
     "name": "stdout",
     "output_type": "stream",
     "text": [
      "Company Name: Thai Holdings 024\n",
      "Total Assets: 38\n",
      "Revenue: 553093014.0\n",
      "NPV: 1273258468.5932705\n",
      "Total Replacement Cost: 1140138480.54\n",
      "Asset Name: Power Asset 00091\n",
      "Revenue: 72312048.0\n",
      "Terminal Value: 289248191.9999999\n",
      "NPV: 290362133.59596837\n",
      "Replacement Cost: 268873227.5\n"
     ]
    }
   ],
   "source": [
    "asset_id = 1\n",
    "firm_id = 1\n",
    "print('Company Name:', firms[firm_id].name)\n",
    "print('Total Assets:', len(firms[firm_id].assets))\n",
    "print('Revenue:', firms[firm_id].revenue)\n",
    "print('NPV:', firms[firm_id].npv)\n",
    "print('Total Replacement Cost:', firms[firm_id].baseline_replacement_costs)\n",
    "print('Asset Name:', firms[firm_id].assets[asset_id].name)\n",
    "print('Revenue:', firms[firm_id].assets[asset_id].revenue_path[0])\n",
    "print('Terminal Value:', firms[firm_id].assets[asset_id].terminal_value)\n",
    "print('NPV:', firms[firm_id].assets[asset_id].npv)\n",
    "print('Replacement Cost:', firms[firm_id].assets[asset_id].replacement_cost)"
   ]
  },
  {
   "cell_type": "code",
   "execution_count": 169,
   "id": "596d2d06-1cbf-4a57-bba7-7166d71fcbb5",
   "metadata": {},
   "outputs": [
    {
     "name": "stdout",
     "output_type": "stream",
     "text": [
      "Total Revenue of all Assets Summed\n",
      "553093014.0\n",
      "('Power Asset 00116', 'Power Asset 00091', 'Manufacturing Asset 00625', 'Manufacturing Asset 00528', 'Power Asset 00002', 'Manufacturing Asset 00243', 'Manufacturing Asset 00495', 'Manufacturing Asset 00634', 'Manufacturing Asset 00682', 'Manufacturing Asset 00672')\n",
      "(np.float64(72853416.0), np.float64(72312048.0), np.float64(46596600.0), np.float64(33643050.0), np.float64(27488879.999999996), np.float64(25233250.0), np.float64(22976350.000000004), np.float64(19688825.0), np.float64(18511900.0), np.float64(17905175.0))\n"
     ]
    }
   ],
   "source": [
    "# Loop through and find the highest revenue generating assets\n",
    "asset_name = []\n",
    "asset_revenue = []\n",
    "for i in range(len(firms[firm_id].assets)):\n",
    "    asset_name.append(firms[firm_id].assets[i].name)\n",
    "    asset_revenue.append(firms[firm_id].assets[i].revenue_path[0])\n",
    "print('Total Revenue of all Assets Summed')\n",
    "print(np.sum(asset_revenue))\n",
    "combined = list(zip(asset_revenue, asset_name))\n",
    "combined.sort(reverse=True, key=lambda x: x[0])\n",
    "asset_revenue, asset_name = zip(*combined)\n",
    "print(asset_name[:10])\n",
    "print(asset_revenue[:10])"
   ]
  },
  {
   "cell_type": "code",
   "execution_count": null,
   "id": "5398061a-7602-439d-9d20-622b1a084e72",
   "metadata": {},
   "outputs": [],
   "source": []
  },
  {
   "cell_type": "code",
   "execution_count": null,
   "id": "b9a6c82d-26fd-4027-b4db-c2110620f952",
   "metadata": {},
   "outputs": [],
   "source": []
  }
 ],
 "metadata": {
  "kernelspec": {
   "display_name": "assfinrisk",
   "language": "python",
   "name": "assfinrisk"
  },
  "language_info": {
   "codemirror_mode": {
    "name": "ipython",
    "version": 3
   },
   "file_extension": ".py",
   "mimetype": "text/x-python",
   "name": "python",
   "nbconvert_exporter": "python",
   "pygments_lexer": "ipython3",
   "version": "3.9.23"
  }
 },
 "nbformat": 4,
 "nbformat_minor": 5
}
